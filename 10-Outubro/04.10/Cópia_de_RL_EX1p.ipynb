{
  "nbformat": 4,
  "nbformat_minor": 0,
  "metadata": {
    "colab": {
      "provenance": []
    },
    "kernelspec": {
      "name": "python3",
      "display_name": "Python 3"
    },
    "language_info": {
      "name": "python"
    }
  },
  "cells": [
    {
      "cell_type": "code",
      "execution_count": null,
      "metadata": {
        "id": "3JXVn8Aralb3"
      },
      "outputs": [],
      "source": [
        "#1 BIBLIOTECAS\n",
        "import pandas as pd\n",
        "import numpy as np\n",
        "import matplotlib.pyplot as plt\n",
        "from sklearn.linear_model import LinearRegression\n",
        "from sklearn.model_selection import train_test_split\n",
        "from sklearn.metrics import r2_score\n",
        "from scipy.stats import pearsonr\n",
        "from sklearn import metrics"
      ]
    },
    {
      "cell_type": "code",
      "source": [
        "#2 IMPORTANDO ARQUIVO\n",
        "dados=pd.read_csv('insurance.csv')"
      ],
      "metadata": {
        "id": "cRwbtKuxdX1Q"
      },
      "execution_count": null,
      "outputs": []
    },
    {
      "cell_type": "code",
      "source": [
        "#3 ANALISANDO OS DADOS I (ANÁLISE EXPLORATÓRIA DOS DADOS - AED)\n",
        "print(dados.head())\n",
        "print(dados.shape)"
      ],
      "metadata": {
        "colab": {
          "base_uri": "https://localhost:8080/"
        },
        "id": "0BYer024ewkA",
        "outputId": "754554d9-45c7-463c-c35f-f71d8f5a5593",
        "collapsed": true
      },
      "execution_count": null,
      "outputs": [
        {
          "output_type": "stream",
          "name": "stdout",
          "text": [
            "   age     sex     bmi  children smoker     region      charges\n",
            "0   19  female  27.900         0    yes  southwest  16884.92400\n",
            "1   18    male  33.770         1     no  southeast   1725.55230\n",
            "2   28    male  33.000         3     no  southeast   4449.46200\n",
            "3   33    male  22.705         0     no  northwest  21984.47061\n",
            "4   32    male  28.880         0     no  northwest   3866.85520\n",
            "(1338, 7)\n"
          ]
        }
      ]
    },
    {
      "cell_type": "code",
      "source": [
        "#4 ANALISANDO OS DADOS II - AED\n",
        "print(dados.dtypes)"
      ],
      "metadata": {
        "colab": {
          "base_uri": "https://localhost:8080/"
        },
        "id": "RtPn-eaIghTW",
        "outputId": "89a05e96-d221-4c21-c827-1ccecab719da",
        "collapsed": true
      },
      "execution_count": null,
      "outputs": [
        {
          "output_type": "stream",
          "name": "stdout",
          "text": [
            "age           int64\n",
            "sex          object\n",
            "bmi         float64\n",
            "children      int64\n",
            "smoker       object\n",
            "region       object\n",
            "charges     float64\n",
            "dtype: object\n"
          ]
        }
      ]
    },
    {
      "cell_type": "code",
      "source": [
        "#5 ANALISANDO OS DADOS III - AED\n",
        "dados.describe().round(2)\n"
      ],
      "metadata": {
        "colab": {
          "base_uri": "https://localhost:8080/",
          "height": 300
        },
        "id": "Bkxuu9Sy9rQe",
        "outputId": "b852d08e-9cdd-45d1-d8db-7a47b2a4e523",
        "collapsed": true
      },
      "execution_count": null,
      "outputs": [
        {
          "output_type": "execute_result",
          "data": {
            "text/plain": [
              "           age      bmi  children   charges\n",
              "count  1338.00  1338.00   1338.00   1338.00\n",
              "mean     39.21    30.66      1.09  13270.42\n",
              "std      14.05     6.10      1.21  12110.01\n",
              "min      18.00    15.96      0.00   1121.87\n",
              "25%      27.00    26.30      0.00   4740.29\n",
              "50%      39.00    30.40      1.00   9382.03\n",
              "75%      51.00    34.69      2.00  16639.91\n",
              "max      64.00    53.13      5.00  63770.43"
            ],
            "text/html": [
              "\n",
              "  <div id=\"df-9649912a-af08-4ed5-af8e-d9059b47378c\" class=\"colab-df-container\">\n",
              "    <div>\n",
              "<style scoped>\n",
              "    .dataframe tbody tr th:only-of-type {\n",
              "        vertical-align: middle;\n",
              "    }\n",
              "\n",
              "    .dataframe tbody tr th {\n",
              "        vertical-align: top;\n",
              "    }\n",
              "\n",
              "    .dataframe thead th {\n",
              "        text-align: right;\n",
              "    }\n",
              "</style>\n",
              "<table border=\"1\" class=\"dataframe\">\n",
              "  <thead>\n",
              "    <tr style=\"text-align: right;\">\n",
              "      <th></th>\n",
              "      <th>age</th>\n",
              "      <th>bmi</th>\n",
              "      <th>children</th>\n",
              "      <th>charges</th>\n",
              "    </tr>\n",
              "  </thead>\n",
              "  <tbody>\n",
              "    <tr>\n",
              "      <th>count</th>\n",
              "      <td>1338.00</td>\n",
              "      <td>1338.00</td>\n",
              "      <td>1338.00</td>\n",
              "      <td>1338.00</td>\n",
              "    </tr>\n",
              "    <tr>\n",
              "      <th>mean</th>\n",
              "      <td>39.21</td>\n",
              "      <td>30.66</td>\n",
              "      <td>1.09</td>\n",
              "      <td>13270.42</td>\n",
              "    </tr>\n",
              "    <tr>\n",
              "      <th>std</th>\n",
              "      <td>14.05</td>\n",
              "      <td>6.10</td>\n",
              "      <td>1.21</td>\n",
              "      <td>12110.01</td>\n",
              "    </tr>\n",
              "    <tr>\n",
              "      <th>min</th>\n",
              "      <td>18.00</td>\n",
              "      <td>15.96</td>\n",
              "      <td>0.00</td>\n",
              "      <td>1121.87</td>\n",
              "    </tr>\n",
              "    <tr>\n",
              "      <th>25%</th>\n",
              "      <td>27.00</td>\n",
              "      <td>26.30</td>\n",
              "      <td>0.00</td>\n",
              "      <td>4740.29</td>\n",
              "    </tr>\n",
              "    <tr>\n",
              "      <th>50%</th>\n",
              "      <td>39.00</td>\n",
              "      <td>30.40</td>\n",
              "      <td>1.00</td>\n",
              "      <td>9382.03</td>\n",
              "    </tr>\n",
              "    <tr>\n",
              "      <th>75%</th>\n",
              "      <td>51.00</td>\n",
              "      <td>34.69</td>\n",
              "      <td>2.00</td>\n",
              "      <td>16639.91</td>\n",
              "    </tr>\n",
              "    <tr>\n",
              "      <th>max</th>\n",
              "      <td>64.00</td>\n",
              "      <td>53.13</td>\n",
              "      <td>5.00</td>\n",
              "      <td>63770.43</td>\n",
              "    </tr>\n",
              "  </tbody>\n",
              "</table>\n",
              "</div>\n",
              "    <div class=\"colab-df-buttons\">\n",
              "\n",
              "  <div class=\"colab-df-container\">\n",
              "    <button class=\"colab-df-convert\" onclick=\"convertToInteractive('df-9649912a-af08-4ed5-af8e-d9059b47378c')\"\n",
              "            title=\"Convert this dataframe to an interactive table.\"\n",
              "            style=\"display:none;\">\n",
              "\n",
              "  <svg xmlns=\"http://www.w3.org/2000/svg\" height=\"24px\" viewBox=\"0 -960 960 960\">\n",
              "    <path d=\"M120-120v-720h720v720H120Zm60-500h600v-160H180v160Zm220 220h160v-160H400v160Zm0 220h160v-160H400v160ZM180-400h160v-160H180v160Zm440 0h160v-160H620v160ZM180-180h160v-160H180v160Zm440 0h160v-160H620v160Z\"/>\n",
              "  </svg>\n",
              "    </button>\n",
              "\n",
              "  <style>\n",
              "    .colab-df-container {\n",
              "      display:flex;\n",
              "      gap: 12px;\n",
              "    }\n",
              "\n",
              "    .colab-df-convert {\n",
              "      background-color: #E8F0FE;\n",
              "      border: none;\n",
              "      border-radius: 50%;\n",
              "      cursor: pointer;\n",
              "      display: none;\n",
              "      fill: #1967D2;\n",
              "      height: 32px;\n",
              "      padding: 0 0 0 0;\n",
              "      width: 32px;\n",
              "    }\n",
              "\n",
              "    .colab-df-convert:hover {\n",
              "      background-color: #E2EBFA;\n",
              "      box-shadow: 0px 1px 2px rgba(60, 64, 67, 0.3), 0px 1px 3px 1px rgba(60, 64, 67, 0.15);\n",
              "      fill: #174EA6;\n",
              "    }\n",
              "\n",
              "    .colab-df-buttons div {\n",
              "      margin-bottom: 4px;\n",
              "    }\n",
              "\n",
              "    [theme=dark] .colab-df-convert {\n",
              "      background-color: #3B4455;\n",
              "      fill: #D2E3FC;\n",
              "    }\n",
              "\n",
              "    [theme=dark] .colab-df-convert:hover {\n",
              "      background-color: #434B5C;\n",
              "      box-shadow: 0px 1px 3px 1px rgba(0, 0, 0, 0.15);\n",
              "      filter: drop-shadow(0px 1px 2px rgba(0, 0, 0, 0.3));\n",
              "      fill: #FFFFFF;\n",
              "    }\n",
              "  </style>\n",
              "\n",
              "    <script>\n",
              "      const buttonEl =\n",
              "        document.querySelector('#df-9649912a-af08-4ed5-af8e-d9059b47378c button.colab-df-convert');\n",
              "      buttonEl.style.display =\n",
              "        google.colab.kernel.accessAllowed ? 'block' : 'none';\n",
              "\n",
              "      async function convertToInteractive(key) {\n",
              "        const element = document.querySelector('#df-9649912a-af08-4ed5-af8e-d9059b47378c');\n",
              "        const dataTable =\n",
              "          await google.colab.kernel.invokeFunction('convertToInteractive',\n",
              "                                                    [key], {});\n",
              "        if (!dataTable) return;\n",
              "\n",
              "        const docLinkHtml = 'Like what you see? Visit the ' +\n",
              "          '<a target=\"_blank\" href=https://colab.research.google.com/notebooks/data_table.ipynb>data table notebook</a>'\n",
              "          + ' to learn more about interactive tables.';\n",
              "        element.innerHTML = '';\n",
              "        dataTable['output_type'] = 'display_data';\n",
              "        await google.colab.output.renderOutput(dataTable, element);\n",
              "        const docLink = document.createElement('div');\n",
              "        docLink.innerHTML = docLinkHtml;\n",
              "        element.appendChild(docLink);\n",
              "      }\n",
              "    </script>\n",
              "  </div>\n",
              "\n",
              "\n",
              "<div id=\"df-9bbb4282-ae55-4a86-b178-e5dc47358f38\">\n",
              "  <button class=\"colab-df-quickchart\" onclick=\"quickchart('df-9bbb4282-ae55-4a86-b178-e5dc47358f38')\"\n",
              "            title=\"Suggest charts\"\n",
              "            style=\"display:none;\">\n",
              "\n",
              "<svg xmlns=\"http://www.w3.org/2000/svg\" height=\"24px\"viewBox=\"0 0 24 24\"\n",
              "     width=\"24px\">\n",
              "    <g>\n",
              "        <path d=\"M19 3H5c-1.1 0-2 .9-2 2v14c0 1.1.9 2 2 2h14c1.1 0 2-.9 2-2V5c0-1.1-.9-2-2-2zM9 17H7v-7h2v7zm4 0h-2V7h2v10zm4 0h-2v-4h2v4z\"/>\n",
              "    </g>\n",
              "</svg>\n",
              "  </button>\n",
              "\n",
              "<style>\n",
              "  .colab-df-quickchart {\n",
              "      --bg-color: #E8F0FE;\n",
              "      --fill-color: #1967D2;\n",
              "      --hover-bg-color: #E2EBFA;\n",
              "      --hover-fill-color: #174EA6;\n",
              "      --disabled-fill-color: #AAA;\n",
              "      --disabled-bg-color: #DDD;\n",
              "  }\n",
              "\n",
              "  [theme=dark] .colab-df-quickchart {\n",
              "      --bg-color: #3B4455;\n",
              "      --fill-color: #D2E3FC;\n",
              "      --hover-bg-color: #434B5C;\n",
              "      --hover-fill-color: #FFFFFF;\n",
              "      --disabled-bg-color: #3B4455;\n",
              "      --disabled-fill-color: #666;\n",
              "  }\n",
              "\n",
              "  .colab-df-quickchart {\n",
              "    background-color: var(--bg-color);\n",
              "    border: none;\n",
              "    border-radius: 50%;\n",
              "    cursor: pointer;\n",
              "    display: none;\n",
              "    fill: var(--fill-color);\n",
              "    height: 32px;\n",
              "    padding: 0;\n",
              "    width: 32px;\n",
              "  }\n",
              "\n",
              "  .colab-df-quickchart:hover {\n",
              "    background-color: var(--hover-bg-color);\n",
              "    box-shadow: 0 1px 2px rgba(60, 64, 67, 0.3), 0 1px 3px 1px rgba(60, 64, 67, 0.15);\n",
              "    fill: var(--button-hover-fill-color);\n",
              "  }\n",
              "\n",
              "  .colab-df-quickchart-complete:disabled,\n",
              "  .colab-df-quickchart-complete:disabled:hover {\n",
              "    background-color: var(--disabled-bg-color);\n",
              "    fill: var(--disabled-fill-color);\n",
              "    box-shadow: none;\n",
              "  }\n",
              "\n",
              "  .colab-df-spinner {\n",
              "    border: 2px solid var(--fill-color);\n",
              "    border-color: transparent;\n",
              "    border-bottom-color: var(--fill-color);\n",
              "    animation:\n",
              "      spin 1s steps(1) infinite;\n",
              "  }\n",
              "\n",
              "  @keyframes spin {\n",
              "    0% {\n",
              "      border-color: transparent;\n",
              "      border-bottom-color: var(--fill-color);\n",
              "      border-left-color: var(--fill-color);\n",
              "    }\n",
              "    20% {\n",
              "      border-color: transparent;\n",
              "      border-left-color: var(--fill-color);\n",
              "      border-top-color: var(--fill-color);\n",
              "    }\n",
              "    30% {\n",
              "      border-color: transparent;\n",
              "      border-left-color: var(--fill-color);\n",
              "      border-top-color: var(--fill-color);\n",
              "      border-right-color: var(--fill-color);\n",
              "    }\n",
              "    40% {\n",
              "      border-color: transparent;\n",
              "      border-right-color: var(--fill-color);\n",
              "      border-top-color: var(--fill-color);\n",
              "    }\n",
              "    60% {\n",
              "      border-color: transparent;\n",
              "      border-right-color: var(--fill-color);\n",
              "    }\n",
              "    80% {\n",
              "      border-color: transparent;\n",
              "      border-right-color: var(--fill-color);\n",
              "      border-bottom-color: var(--fill-color);\n",
              "    }\n",
              "    90% {\n",
              "      border-color: transparent;\n",
              "      border-bottom-color: var(--fill-color);\n",
              "    }\n",
              "  }\n",
              "</style>\n",
              "\n",
              "  <script>\n",
              "    async function quickchart(key) {\n",
              "      const quickchartButtonEl =\n",
              "        document.querySelector('#' + key + ' button');\n",
              "      quickchartButtonEl.disabled = true;  // To prevent multiple clicks.\n",
              "      quickchartButtonEl.classList.add('colab-df-spinner');\n",
              "      try {\n",
              "        const charts = await google.colab.kernel.invokeFunction(\n",
              "            'suggestCharts', [key], {});\n",
              "      } catch (error) {\n",
              "        console.error('Error during call to suggestCharts:', error);\n",
              "      }\n",
              "      quickchartButtonEl.classList.remove('colab-df-spinner');\n",
              "      quickchartButtonEl.classList.add('colab-df-quickchart-complete');\n",
              "    }\n",
              "    (() => {\n",
              "      let quickchartButtonEl =\n",
              "        document.querySelector('#df-9bbb4282-ae55-4a86-b178-e5dc47358f38 button');\n",
              "      quickchartButtonEl.style.display =\n",
              "        google.colab.kernel.accessAllowed ? 'block' : 'none';\n",
              "    })();\n",
              "  </script>\n",
              "</div>\n",
              "\n",
              "    </div>\n",
              "  </div>\n"
            ],
            "application/vnd.google.colaboratory.intrinsic+json": {
              "type": "dataframe",
              "summary": "{\n  \"name\": \"dados\",\n  \"rows\": 8,\n  \"fields\": [\n    {\n      \"column\": \"age\",\n      \"properties\": {\n        \"dtype\": \"number\",\n        \"std\": 460.61045955340614,\n        \"min\": 14.05,\n        \"max\": 1338.0,\n        \"num_unique_values\": 8,\n        \"samples\": [\n          39.21,\n          39.0,\n          1338.0\n        ],\n        \"semantic_type\": \"\",\n        \"description\": \"\"\n      }\n    },\n    {\n      \"column\": \"bmi\",\n      \"properties\": {\n        \"dtype\": \"number\",\n        \"std\": 463.29530508552074,\n        \"min\": 6.1,\n        \"max\": 1338.0,\n        \"num_unique_values\": 8,\n        \"samples\": [\n          30.66,\n          30.4,\n          1338.0\n        ],\n        \"semantic_type\": \"\",\n        \"description\": \"\"\n      }\n    },\n    {\n      \"column\": \"children\",\n      \"properties\": {\n        \"dtype\": \"number\",\n        \"std\": 472.53685282586315,\n        \"min\": 0.0,\n        \"max\": 1338.0,\n        \"num_unique_values\": 7,\n        \"samples\": [\n          1338.0,\n          1.09,\n          2.0\n        ],\n        \"semantic_type\": \"\",\n        \"description\": \"\"\n      }\n    },\n    {\n      \"column\": \"charges\",\n      \"properties\": {\n        \"dtype\": \"number\",\n        \"std\": 20381.92385941243,\n        \"min\": 1121.87,\n        \"max\": 63770.43,\n        \"num_unique_values\": 8,\n        \"samples\": [\n          13270.42,\n          9382.03,\n          1338.0\n        ],\n        \"semantic_type\": \"\",\n        \"description\": \"\"\n      }\n    }\n  ]\n}"
            }
          },
          "metadata": {},
          "execution_count": 5
        }
      ]
    },
    {
      "cell_type": "code",
      "source": [
        "#6 PRÉ PROCESSSANDO OS DADOS I\n",
        "#Convertendo as variáveis SEX, SMOKER e REGION em numéricas (ENCODING)\n",
        "from sklearn.preprocessing import LabelEncoder\n",
        "le = LabelEncoder()\n",
        "\n",
        "#sex\n",
        "le.fit(dados.sex)\n",
        "dados.sex = le.transform(dados.sex)\n",
        "\n",
        "# smoker\n",
        "le.fit(dados.smoker)\n",
        "dados.smoker = le.transform(dados.smoker)\n",
        "\n",
        "#region\n",
        "le.fit(dados.region)\n",
        "dados.region = le.transform(dados.region)\n",
        "\n",
        "print(dados.head())\n",
        "print(dados.shape)"
      ],
      "metadata": {
        "colab": {
          "base_uri": "https://localhost:8080/"
        },
        "id": "sRpvkL1AniNm",
        "outputId": "e8489832-b2af-4a0b-f84b-5abd10f457a7"
      },
      "execution_count": null,
      "outputs": [
        {
          "output_type": "stream",
          "name": "stdout",
          "text": [
            "   age  sex     bmi  children  smoker  region      charges\n",
            "0   19    0  27.900         0       1       3  16884.92400\n",
            "1   18    1  33.770         1       0       2   1725.55230\n",
            "2   28    1  33.000         3       0       2   4449.46200\n",
            "3   33    1  22.705         0       0       1  21984.47061\n",
            "4   32    1  28.880         0       0       1   3866.85520\n",
            "(1338, 7)\n"
          ]
        }
      ]
    },
    {
      "cell_type": "code",
      "source": [
        "#7 ANALISANDO OS DADOS IV - AED\n",
        "#CORRELAÇÕES\n",
        "dados.corr().round(2)"
      ],
      "metadata": {
        "colab": {
          "base_uri": "https://localhost:8080/",
          "height": 269
        },
        "id": "K5VggvTBqAcC",
        "outputId": "023d69d7-001c-4c45-9cfc-ecb4646026f4"
      },
      "execution_count": null,
      "outputs": [
        {
          "output_type": "execute_result",
          "data": {
            "text/plain": [
              "           age   sex   bmi  children  smoker  region  charges\n",
              "age       1.00 -0.02  0.11      0.04   -0.03    0.00     0.30\n",
              "sex      -0.02  1.00  0.05      0.02    0.08    0.00     0.06\n",
              "bmi       0.11  0.05  1.00      0.01    0.00    0.16     0.20\n",
              "children  0.04  0.02  0.01      1.00    0.01    0.02     0.07\n",
              "smoker   -0.03  0.08  0.00      0.01    1.00   -0.00     0.79\n",
              "region    0.00  0.00  0.16      0.02   -0.00    1.00    -0.01\n",
              "charges   0.30  0.06  0.20      0.07    0.79   -0.01     1.00"
            ],
            "text/html": [
              "\n",
              "  <div id=\"df-7ad9bf0d-0c20-48a7-aefb-1763cd6a4aec\" class=\"colab-df-container\">\n",
              "    <div>\n",
              "<style scoped>\n",
              "    .dataframe tbody tr th:only-of-type {\n",
              "        vertical-align: middle;\n",
              "    }\n",
              "\n",
              "    .dataframe tbody tr th {\n",
              "        vertical-align: top;\n",
              "    }\n",
              "\n",
              "    .dataframe thead th {\n",
              "        text-align: right;\n",
              "    }\n",
              "</style>\n",
              "<table border=\"1\" class=\"dataframe\">\n",
              "  <thead>\n",
              "    <tr style=\"text-align: right;\">\n",
              "      <th></th>\n",
              "      <th>age</th>\n",
              "      <th>sex</th>\n",
              "      <th>bmi</th>\n",
              "      <th>children</th>\n",
              "      <th>smoker</th>\n",
              "      <th>region</th>\n",
              "      <th>charges</th>\n",
              "    </tr>\n",
              "  </thead>\n",
              "  <tbody>\n",
              "    <tr>\n",
              "      <th>age</th>\n",
              "      <td>1.00</td>\n",
              "      <td>-0.02</td>\n",
              "      <td>0.11</td>\n",
              "      <td>0.04</td>\n",
              "      <td>-0.03</td>\n",
              "      <td>0.00</td>\n",
              "      <td>0.30</td>\n",
              "    </tr>\n",
              "    <tr>\n",
              "      <th>sex</th>\n",
              "      <td>-0.02</td>\n",
              "      <td>1.00</td>\n",
              "      <td>0.05</td>\n",
              "      <td>0.02</td>\n",
              "      <td>0.08</td>\n",
              "      <td>0.00</td>\n",
              "      <td>0.06</td>\n",
              "    </tr>\n",
              "    <tr>\n",
              "      <th>bmi</th>\n",
              "      <td>0.11</td>\n",
              "      <td>0.05</td>\n",
              "      <td>1.00</td>\n",
              "      <td>0.01</td>\n",
              "      <td>0.00</td>\n",
              "      <td>0.16</td>\n",
              "      <td>0.20</td>\n",
              "    </tr>\n",
              "    <tr>\n",
              "      <th>children</th>\n",
              "      <td>0.04</td>\n",
              "      <td>0.02</td>\n",
              "      <td>0.01</td>\n",
              "      <td>1.00</td>\n",
              "      <td>0.01</td>\n",
              "      <td>0.02</td>\n",
              "      <td>0.07</td>\n",
              "    </tr>\n",
              "    <tr>\n",
              "      <th>smoker</th>\n",
              "      <td>-0.03</td>\n",
              "      <td>0.08</td>\n",
              "      <td>0.00</td>\n",
              "      <td>0.01</td>\n",
              "      <td>1.00</td>\n",
              "      <td>-0.00</td>\n",
              "      <td>0.79</td>\n",
              "    </tr>\n",
              "    <tr>\n",
              "      <th>region</th>\n",
              "      <td>0.00</td>\n",
              "      <td>0.00</td>\n",
              "      <td>0.16</td>\n",
              "      <td>0.02</td>\n",
              "      <td>-0.00</td>\n",
              "      <td>1.00</td>\n",
              "      <td>-0.01</td>\n",
              "    </tr>\n",
              "    <tr>\n",
              "      <th>charges</th>\n",
              "      <td>0.30</td>\n",
              "      <td>0.06</td>\n",
              "      <td>0.20</td>\n",
              "      <td>0.07</td>\n",
              "      <td>0.79</td>\n",
              "      <td>-0.01</td>\n",
              "      <td>1.00</td>\n",
              "    </tr>\n",
              "  </tbody>\n",
              "</table>\n",
              "</div>\n",
              "    <div class=\"colab-df-buttons\">\n",
              "\n",
              "  <div class=\"colab-df-container\">\n",
              "    <button class=\"colab-df-convert\" onclick=\"convertToInteractive('df-7ad9bf0d-0c20-48a7-aefb-1763cd6a4aec')\"\n",
              "            title=\"Convert this dataframe to an interactive table.\"\n",
              "            style=\"display:none;\">\n",
              "\n",
              "  <svg xmlns=\"http://www.w3.org/2000/svg\" height=\"24px\" viewBox=\"0 -960 960 960\">\n",
              "    <path d=\"M120-120v-720h720v720H120Zm60-500h600v-160H180v160Zm220 220h160v-160H400v160Zm0 220h160v-160H400v160ZM180-400h160v-160H180v160Zm440 0h160v-160H620v160ZM180-180h160v-160H180v160Zm440 0h160v-160H620v160Z\"/>\n",
              "  </svg>\n",
              "    </button>\n",
              "\n",
              "  <style>\n",
              "    .colab-df-container {\n",
              "      display:flex;\n",
              "      gap: 12px;\n",
              "    }\n",
              "\n",
              "    .colab-df-convert {\n",
              "      background-color: #E8F0FE;\n",
              "      border: none;\n",
              "      border-radius: 50%;\n",
              "      cursor: pointer;\n",
              "      display: none;\n",
              "      fill: #1967D2;\n",
              "      height: 32px;\n",
              "      padding: 0 0 0 0;\n",
              "      width: 32px;\n",
              "    }\n",
              "\n",
              "    .colab-df-convert:hover {\n",
              "      background-color: #E2EBFA;\n",
              "      box-shadow: 0px 1px 2px rgba(60, 64, 67, 0.3), 0px 1px 3px 1px rgba(60, 64, 67, 0.15);\n",
              "      fill: #174EA6;\n",
              "    }\n",
              "\n",
              "    .colab-df-buttons div {\n",
              "      margin-bottom: 4px;\n",
              "    }\n",
              "\n",
              "    [theme=dark] .colab-df-convert {\n",
              "      background-color: #3B4455;\n",
              "      fill: #D2E3FC;\n",
              "    }\n",
              "\n",
              "    [theme=dark] .colab-df-convert:hover {\n",
              "      background-color: #434B5C;\n",
              "      box-shadow: 0px 1px 3px 1px rgba(0, 0, 0, 0.15);\n",
              "      filter: drop-shadow(0px 1px 2px rgba(0, 0, 0, 0.3));\n",
              "      fill: #FFFFFF;\n",
              "    }\n",
              "  </style>\n",
              "\n",
              "    <script>\n",
              "      const buttonEl =\n",
              "        document.querySelector('#df-7ad9bf0d-0c20-48a7-aefb-1763cd6a4aec button.colab-df-convert');\n",
              "      buttonEl.style.display =\n",
              "        google.colab.kernel.accessAllowed ? 'block' : 'none';\n",
              "\n",
              "      async function convertToInteractive(key) {\n",
              "        const element = document.querySelector('#df-7ad9bf0d-0c20-48a7-aefb-1763cd6a4aec');\n",
              "        const dataTable =\n",
              "          await google.colab.kernel.invokeFunction('convertToInteractive',\n",
              "                                                    [key], {});\n",
              "        if (!dataTable) return;\n",
              "\n",
              "        const docLinkHtml = 'Like what you see? Visit the ' +\n",
              "          '<a target=\"_blank\" href=https://colab.research.google.com/notebooks/data_table.ipynb>data table notebook</a>'\n",
              "          + ' to learn more about interactive tables.';\n",
              "        element.innerHTML = '';\n",
              "        dataTable['output_type'] = 'display_data';\n",
              "        await google.colab.output.renderOutput(dataTable, element);\n",
              "        const docLink = document.createElement('div');\n",
              "        docLink.innerHTML = docLinkHtml;\n",
              "        element.appendChild(docLink);\n",
              "      }\n",
              "    </script>\n",
              "  </div>\n",
              "\n",
              "\n",
              "<div id=\"df-8f32f289-abac-42bd-b52e-1523e0b14ccf\">\n",
              "  <button class=\"colab-df-quickchart\" onclick=\"quickchart('df-8f32f289-abac-42bd-b52e-1523e0b14ccf')\"\n",
              "            title=\"Suggest charts\"\n",
              "            style=\"display:none;\">\n",
              "\n",
              "<svg xmlns=\"http://www.w3.org/2000/svg\" height=\"24px\"viewBox=\"0 0 24 24\"\n",
              "     width=\"24px\">\n",
              "    <g>\n",
              "        <path d=\"M19 3H5c-1.1 0-2 .9-2 2v14c0 1.1.9 2 2 2h14c1.1 0 2-.9 2-2V5c0-1.1-.9-2-2-2zM9 17H7v-7h2v7zm4 0h-2V7h2v10zm4 0h-2v-4h2v4z\"/>\n",
              "    </g>\n",
              "</svg>\n",
              "  </button>\n",
              "\n",
              "<style>\n",
              "  .colab-df-quickchart {\n",
              "      --bg-color: #E8F0FE;\n",
              "      --fill-color: #1967D2;\n",
              "      --hover-bg-color: #E2EBFA;\n",
              "      --hover-fill-color: #174EA6;\n",
              "      --disabled-fill-color: #AAA;\n",
              "      --disabled-bg-color: #DDD;\n",
              "  }\n",
              "\n",
              "  [theme=dark] .colab-df-quickchart {\n",
              "      --bg-color: #3B4455;\n",
              "      --fill-color: #D2E3FC;\n",
              "      --hover-bg-color: #434B5C;\n",
              "      --hover-fill-color: #FFFFFF;\n",
              "      --disabled-bg-color: #3B4455;\n",
              "      --disabled-fill-color: #666;\n",
              "  }\n",
              "\n",
              "  .colab-df-quickchart {\n",
              "    background-color: var(--bg-color);\n",
              "    border: none;\n",
              "    border-radius: 50%;\n",
              "    cursor: pointer;\n",
              "    display: none;\n",
              "    fill: var(--fill-color);\n",
              "    height: 32px;\n",
              "    padding: 0;\n",
              "    width: 32px;\n",
              "  }\n",
              "\n",
              "  .colab-df-quickchart:hover {\n",
              "    background-color: var(--hover-bg-color);\n",
              "    box-shadow: 0 1px 2px rgba(60, 64, 67, 0.3), 0 1px 3px 1px rgba(60, 64, 67, 0.15);\n",
              "    fill: var(--button-hover-fill-color);\n",
              "  }\n",
              "\n",
              "  .colab-df-quickchart-complete:disabled,\n",
              "  .colab-df-quickchart-complete:disabled:hover {\n",
              "    background-color: var(--disabled-bg-color);\n",
              "    fill: var(--disabled-fill-color);\n",
              "    box-shadow: none;\n",
              "  }\n",
              "\n",
              "  .colab-df-spinner {\n",
              "    border: 2px solid var(--fill-color);\n",
              "    border-color: transparent;\n",
              "    border-bottom-color: var(--fill-color);\n",
              "    animation:\n",
              "      spin 1s steps(1) infinite;\n",
              "  }\n",
              "\n",
              "  @keyframes spin {\n",
              "    0% {\n",
              "      border-color: transparent;\n",
              "      border-bottom-color: var(--fill-color);\n",
              "      border-left-color: var(--fill-color);\n",
              "    }\n",
              "    20% {\n",
              "      border-color: transparent;\n",
              "      border-left-color: var(--fill-color);\n",
              "      border-top-color: var(--fill-color);\n",
              "    }\n",
              "    30% {\n",
              "      border-color: transparent;\n",
              "      border-left-color: var(--fill-color);\n",
              "      border-top-color: var(--fill-color);\n",
              "      border-right-color: var(--fill-color);\n",
              "    }\n",
              "    40% {\n",
              "      border-color: transparent;\n",
              "      border-right-color: var(--fill-color);\n",
              "      border-top-color: var(--fill-color);\n",
              "    }\n",
              "    60% {\n",
              "      border-color: transparent;\n",
              "      border-right-color: var(--fill-color);\n",
              "    }\n",
              "    80% {\n",
              "      border-color: transparent;\n",
              "      border-right-color: var(--fill-color);\n",
              "      border-bottom-color: var(--fill-color);\n",
              "    }\n",
              "    90% {\n",
              "      border-color: transparent;\n",
              "      border-bottom-color: var(--fill-color);\n",
              "    }\n",
              "  }\n",
              "</style>\n",
              "\n",
              "  <script>\n",
              "    async function quickchart(key) {\n",
              "      const quickchartButtonEl =\n",
              "        document.querySelector('#' + key + ' button');\n",
              "      quickchartButtonEl.disabled = true;  // To prevent multiple clicks.\n",
              "      quickchartButtonEl.classList.add('colab-df-spinner');\n",
              "      try {\n",
              "        const charts = await google.colab.kernel.invokeFunction(\n",
              "            'suggestCharts', [key], {});\n",
              "      } catch (error) {\n",
              "        console.error('Error during call to suggestCharts:', error);\n",
              "      }\n",
              "      quickchartButtonEl.classList.remove('colab-df-spinner');\n",
              "      quickchartButtonEl.classList.add('colab-df-quickchart-complete');\n",
              "    }\n",
              "    (() => {\n",
              "      let quickchartButtonEl =\n",
              "        document.querySelector('#df-8f32f289-abac-42bd-b52e-1523e0b14ccf button');\n",
              "      quickchartButtonEl.style.display =\n",
              "        google.colab.kernel.accessAllowed ? 'block' : 'none';\n",
              "    })();\n",
              "  </script>\n",
              "</div>\n",
              "\n",
              "    </div>\n",
              "  </div>\n"
            ],
            "application/vnd.google.colaboratory.intrinsic+json": {
              "type": "dataframe",
              "summary": "{\n  \"name\": \"dados\",\n  \"rows\": 7,\n  \"fields\": [\n    {\n      \"column\": \"age\",\n      \"properties\": {\n        \"dtype\": \"number\",\n        \"std\": 0.3708099243547832,\n        \"min\": -0.03,\n        \"max\": 1.0,\n        \"num_unique_values\": 7,\n        \"samples\": [\n          1.0,\n          -0.02,\n          0.0\n        ],\n        \"semantic_type\": \"\",\n        \"description\": \"\"\n      }\n    },\n    {\n      \"column\": \"sex\",\n      \"properties\": {\n        \"dtype\": \"number\",\n        \"std\": 0.36765019606504584,\n        \"min\": -0.02,\n        \"max\": 1.0,\n        \"num_unique_values\": 7,\n        \"samples\": [\n          -0.02,\n          1.0,\n          0.0\n        ],\n        \"semantic_type\": \"\",\n        \"description\": \"\"\n      }\n    },\n    {\n      \"column\": \"bmi\",\n      \"properties\": {\n        \"dtype\": \"number\",\n        \"std\": 0.35258231055214,\n        \"min\": 0.0,\n        \"max\": 1.0,\n        \"num_unique_values\": 7,\n        \"samples\": [\n          0.11,\n          0.05,\n          0.16\n        ],\n        \"semantic_type\": \"\",\n        \"description\": \"\"\n      }\n    },\n    {\n      \"column\": \"children\",\n      \"properties\": {\n        \"dtype\": \"number\",\n        \"std\": 0.3678638464483966,\n        \"min\": 0.01,\n        \"max\": 1.0,\n        \"num_unique_values\": 5,\n        \"samples\": [\n          0.02,\n          0.07,\n          0.01\n        ],\n        \"semantic_type\": \"\",\n        \"description\": \"\"\n      }\n    },\n    {\n      \"column\": \"smoker\",\n      \"properties\": {\n        \"dtype\": \"number\",\n        \"std\": 0.43638122258934503,\n        \"min\": -0.03,\n        \"max\": 1.0,\n        \"num_unique_values\": 6,\n        \"samples\": [\n          -0.03,\n          0.08,\n          0.79\n        ],\n        \"semantic_type\": \"\",\n        \"description\": \"\"\n      }\n    },\n    {\n      \"column\": \"region\",\n      \"properties\": {\n        \"dtype\": \"number\",\n        \"std\": 0.3720535035768505,\n        \"min\": -0.01,\n        \"max\": 1.0,\n        \"num_unique_values\": 5,\n        \"samples\": [\n          0.16,\n          -0.01,\n          0.02\n        ],\n        \"semantic_type\": \"\",\n        \"description\": \"\"\n      }\n    },\n    {\n      \"column\": \"charges\",\n      \"properties\": {\n        \"dtype\": \"number\",\n        \"std\": 0.3943288451219846,\n        \"min\": -0.01,\n        \"max\": 1.0,\n        \"num_unique_values\": 7,\n        \"samples\": [\n          0.3,\n          0.06,\n          -0.01\n        ],\n        \"semantic_type\": \"\",\n        \"description\": \"\"\n      }\n    }\n  ]\n}"
            }
          },
          "metadata": {},
          "execution_count": 7
        }
      ]
    },
    {
      "cell_type": "code",
      "source": [
        "#8 FILTRANDO DADOS I\n",
        "#FILTRO PARA SEPARAR SOMENTE OS FUMANTES\n",
        "dados = dados[dados['smoker'] == 1]\n",
        "print(dados.head())\n",
        "print(dados.shape)"
      ],
      "metadata": {
        "colab": {
          "base_uri": "https://localhost:8080/"
        },
        "id": "Kmp4WN1GjwWA",
        "outputId": "04a2c996-82c2-42a9-ce4a-a25eb5a8253c"
      },
      "execution_count": null,
      "outputs": [
        {
          "output_type": "stream",
          "name": "stdout",
          "text": [
            "    age  sex    bmi  children  smoker  region     charges\n",
            "0    19    0  27.90         0       1       3  16884.9240\n",
            "11   62    0  26.29         0       1       2  27808.7251\n",
            "14   27    1  42.13         0       1       2  39611.7577\n",
            "19   30    1  35.30         0       1       3  36837.4670\n",
            "23   34    0  31.92         1       1       0  37701.8768\n",
            "(274, 7)\n"
          ]
        }
      ]
    },
    {
      "cell_type": "code",
      "source": [
        "#9 FILTRANDO DADOS II\n",
        "#FILTRO PARA SEPARAR SOMENTE AS II - MULHERES\n",
        "dados = dados[dados['sex'] == 1]\n",
        "print(dados.head())\n",
        "print(dados.shape)"
      ],
      "metadata": {
        "colab": {
          "base_uri": "https://localhost:8080/"
        },
        "id": "Jj6pshuqk3V3",
        "outputId": "0c2d3262-9b86-4fc9-80fc-a4ec43caa898"
      },
      "execution_count": null,
      "outputs": [
        {
          "output_type": "stream",
          "name": "stdout",
          "text": [
            "    age  sex    bmi  children  smoker  region      charges\n",
            "14   27    1  42.13         0       1       2  39611.75770\n",
            "19   30    1  35.30         0       1       3  36837.46700\n",
            "29   31    1  36.30         2       1       3  38711.00000\n",
            "30   22    1  35.60         0       1       3  35585.57600\n",
            "34   28    1  36.40         1       1       3  51194.55914\n",
            "(159, 7)\n"
          ]
        }
      ]
    },
    {
      "cell_type": "code",
      "source": [
        "#10 ESCOLHA DAS VARIÁVEIS : IMC X GASTO COM SEGURO\n",
        "X = dados['bmi'].values\n",
        "Y = dados['charges'].values"
      ],
      "metadata": {
        "id": "bq-J0U8KlfND"
      },
      "execution_count": null,
      "outputs": []
    },
    {
      "cell_type": "code",
      "source": [
        "print(X)"
      ],
      "metadata": {
        "id": "Hjj5Vb8qnGon",
        "colab": {
          "base_uri": "https://localhost:8080/"
        },
        "collapsed": true,
        "outputId": "3d78640b-ea21-4074-a758-580f2c07ce5d"
      },
      "execution_count": null,
      "outputs": [
        {
          "output_type": "stream",
          "name": "stdout",
          "text": [
            "[42.13  35.3   36.3   35.6   36.4   36.67  39.9   35.2   28.    34.43\n",
            " 36.955 31.68  23.98  37.62  22.895 29.83  19.95  19.3   28.025 35.09\n",
            " 31.35  25.3   28.69  30.495 24.42  25.175 35.53  41.895 27.74  34.8\n",
            " 24.64  29.07  17.29  34.21  31.825 33.63  31.92  24.32  36.955 42.35\n",
            " 19.8   34.2   40.565 45.54  27.7   25.41  34.39  35.97  30.8   36.48\n",
            " 27.36  32.3   32.9   40.15  30.685 33.88  35.86  32.775 26.695 30.\n",
            " 25.1   28.31  28.5   25.7   34.4   23.21  30.25  28.3   26.07  42.13\n",
            " 25.84  40.565 37.8   25.6   34.1   33.535 26.41  28.31  38.06  32.015\n",
            " 31.35  35.3   31.13  35.75  24.42  31.73  35.5   29.15  34.105 38.17\n",
            " 27.1   24.4   20.9   28.5   24.795 31.79  28.025 30.78  24.13  28.93\n",
            " 28.975 38.94  40.92  31.73  22.895 34.2   29.7   42.9   30.2   27.835\n",
            " 30.8   34.96  24.795 22.895 25.9   22.99  32.7   28.215 20.13  36.08\n",
            " 26.03  21.565 37.07  30.685 52.58  30.9   29.8   41.14  37.07  31.68\n",
            " 36.19  38.39  33.33  35.75  32.8   44.88  27.36  29.81  35.625 33.4\n",
            " 34.485 41.8   36.96  33.63  29.83  27.3   23.76  31.065 27.06  29.925\n",
            " 36.3   39.4   34.9   30.36  30.875 27.8   24.605 28.12  26.695]\n"
          ]
        }
      ]
    },
    {
      "cell_type": "code",
      "source": [
        "print(Y)"
      ],
      "metadata": {
        "id": "oyZ3ADIPnTvc",
        "colab": {
          "base_uri": "https://localhost:8080/"
        },
        "collapsed": true,
        "outputId": "05af3f50-6c2a-4609-f8b6-878c31b075f4"
      },
      "execution_count": null,
      "outputs": [
        {
          "output_type": "stream",
          "name": "stdout",
          "text": [
            "[39611.7577  36837.467   38711.      35585.576   51194.55914 39774.2763\n",
            " 48173.361   38709.176   23568.272   37742.5757  47496.49445 34303.1672\n",
            " 17663.1442  37165.1638  21098.55405 30184.9367  22412.6485  15820.699\n",
            " 17560.37975 47055.5321  39556.4945  18972.495   20745.9891  40720.55105\n",
            " 21223.6758  15518.18025 36950.2567  43753.33705 20984.0936  34779.615\n",
            " 19515.5416  17352.6803  12829.4551  44260.7499  41097.16175 43921.1837\n",
            " 33750.2918  24869.8368  36219.40545 46151.1245  17179.522   42856.838\n",
            " 48549.17835 42112.2356  16297.846   21978.6769  38746.3551  42124.5153\n",
            " 35491.64    42760.5022  24393.6224  41919.097   36085.219   38126.2465\n",
            " 42303.69215 46889.2612  46599.1084  39125.33225 26109.32905 22144.032\n",
            " 25382.297   28868.6639  35147.52848 17942.106   36197.699   22218.1149\n",
            " 32548.3405  21082.16    38245.59327 48675.5177  23807.2406  45702.02235\n",
            " 39241.442   23306.547   40182.246   34617.84065 20149.3229  32787.45859\n",
            " 42560.4304  45710.20785 46130.5265  40103.89    34806.4677  40273.6455\n",
            " 19361.9988  36189.1017  44585.45587 18246.4955  43254.41795 36307.7983\n",
            " 19040.876   18259.216   21195.818   18310.742   17904.52705 43813.8661\n",
            " 20773.62775 39597.4072  15817.9857  19719.6947  27218.43725 44202.6536\n",
            " 48673.5588  33732.6867  35069.37452 39047.285   19933.458   47462.894\n",
            " 38998.546   20009.63365 41999.52    41034.2214  23967.38305 16138.76205\n",
            " 19199.944   17361.7661  34472.841   24915.22085 18767.7377  42211.1382\n",
            " 16450.8947  13747.87235 37484.4493  33475.81715 44501.3982  39727.614\n",
            " 25309.489   48970.2476  39871.7043  34672.1472  41676.0811  41949.2441\n",
            " 36124.5737  38282.7495  52590.82939 39722.7462  17178.6824  19350.3689\n",
            " 37465.34375 38415.474   60021.39897 47269.854   49577.6624  37607.5277\n",
            " 18648.4217  16232.847   26926.5144  34254.05335 17043.3414  22462.04375\n",
            " 47403.88    38344.566   34828.654   62592.87309 46718.16325 37829.7242\n",
            " 21259.37795 21472.4788  28101.33305]\n"
          ]
        }
      ]
    },
    {
      "cell_type": "code",
      "source": [
        "#11 ANÁLISE GRÁFICA - AED\n",
        "#Gráfico da relação entre IMC x Custo\n",
        "plt.scatter(X, Y)\n",
        "plt.show()\n"
      ],
      "metadata": {
        "colab": {
          "base_uri": "https://localhost:8080/",
          "height": 430
        },
        "id": "kQ2DcfBOsy4L",
        "outputId": "29d00851-28ba-4957-c18d-c74c0410936e"
      },
      "execution_count": null,
      "outputs": [
        {
          "output_type": "display_data",
          "data": {
            "text/plain": [
              "<Figure size 640x480 with 1 Axes>"
            ],
            "image/png": "[encoded data removed]"
          },
          "metadata": {}
        }
      ]
    },
    {
      "cell_type": "code",
      "source": [
        "#12 PEARSON\n",
        "#Calculo do r (Pearson)\n",
        "r = pearsonr(X, Y)\n",
        "print(f'Coeficiente de correlação: {r}')"
      ],
      "metadata": {
        "colab": {
          "base_uri": "https://localhost:8080/"
        },
        "id": "KyvVwpwWtmFl",
        "outputId": "50cfabbb-87e5-4e1f-8ac7-d7209209b113"
      },
      "execution_count": null,
      "outputs": [
        {
          "output_type": "stream",
          "name": "stdout",
          "text": [
            "Coeficiente de correlação: PearsonRResult(statistic=0.7693553500239402, pvalue=2.290057897722594e-32)\n"
          ]
        }
      ]
    },
    {
      "cell_type": "code",
      "source": [
        "#13 MLS I\n",
        "#Separar os conjuntos TREINAMENTO e TESTE (70% / 30%)\n",
        "x_train, x_test, y_train, y_test = train_test_split(X,Y,test_size=0.3)"
      ],
      "metadata": {
        "id": "O07bM03kuIkt"
      },
      "execution_count": null,
      "outputs": []
    },
    {
      "cell_type": "markdown",
      "source": [],
      "metadata": {
        "id": "r4_4n3OfuQIy"
      }
    },
    {
      "cell_type": "code",
      "source": [
        "#Dados de x (Features)\n",
        "print(x_train)"
      ],
      "metadata": {
        "id": "RIxFWJVEvZOp",
        "colab": {
          "base_uri": "https://localhost:8080/"
        },
        "collapsed": true,
        "outputId": "7bed9c72-2449-4598-f53b-55c5fdd52637"
      },
      "execution_count": null,
      "outputs": [
        {
          "output_type": "stream",
          "name": "stdout",
          "text": [
            "[34.9   33.4   34.4   28.31  38.17  36.96  31.79  42.9   27.835 35.75\n",
            " 38.94  34.2   26.07  35.53  30.685 28.3   27.1   23.98  30.    24.42\n",
            " 36.955 35.625 29.8   35.09  30.36  37.07  34.105 35.3   31.35  37.8\n",
            " 42.35  32.8   20.9   32.7   24.795 28.5   31.35  36.67  27.74  36.4\n",
            " 31.68  30.8   33.63  22.895 31.13  31.73  34.1   41.14  32.015 29.7\n",
            " 41.895 28.12  33.33  29.07  40.15  29.925 28.025 25.175 25.84  36.19\n",
            " 32.9   41.8   27.3   22.99  28.975 36.3   45.54  28.5   40.92  33.535\n",
            " 30.2   39.9   24.32  24.64  35.97  30.9   34.2   37.07  19.8   31.92\n",
            " 35.5   28.025 25.41  29.15  27.36  31.73  42.13  25.3   52.58  19.3\n",
            " 34.21  40.565 30.685 25.1   25.6   36.08  39.4   20.13  38.39  26.03\n",
            " 28.    30.495 28.69  30.875 34.43  36.48  38.06  28.93  30.25  31.68\n",
            " 34.485]\n"
          ]
        }
      ]
    },
    {
      "cell_type": "code",
      "source": [
        "print(x_test)"
      ],
      "metadata": {
        "id": "jXp1me_Fvd9R",
        "colab": {
          "base_uri": "https://localhost:8080/"
        },
        "collapsed": true,
        "outputId": "ab58de16-718d-4f14-8860-33346215e6af"
      },
      "execution_count": null,
      "outputs": [
        {
          "output_type": "stream",
          "name": "stdout",
          "text": [
            "[28.31  26.695 35.75  34.96  29.81  36.3   37.62  27.8   30.78  29.83\n",
            " 32.775 31.065 35.2   27.7   30.8   29.83  28.215 27.06  33.88  27.36\n",
            " 35.3   21.565 24.795 17.29  23.21  34.8   24.42  25.9   26.695 19.95\n",
            " 23.76  22.895 40.565 35.6   36.955 22.895 25.7   24.13  26.41  33.63\n",
            " 35.86  31.825 44.88  42.13  32.3   24.605 24.4   34.39 ]\n"
          ]
        }
      ]
    },
    {
      "cell_type": "code",
      "source": [
        "#Dados de y (Target)\n",
        "print(y_train)"
      ],
      "metadata": {
        "id": "Av6iCOAUws4X",
        "colab": {
          "base_uri": "https://localhost:8080/"
        },
        "collapsed": true,
        "outputId": "2110f97c-8a86-4be6-df9c-f1f9920b1b99"
      },
      "execution_count": null,
      "outputs": [
        {
          "output_type": "stream",
          "name": "stdout",
          "text": [
            "[34828.654   38415.474   36197.699   28868.6639  36307.7983  49577.6624\n",
            " 43813.8661  47462.894   20009.63365 40273.6455  44202.6536  42856.838\n",
            " 38245.59327 36950.2567  42303.69215 21082.16    19040.876   17663.1442\n",
            " 22144.032   21223.6758  36219.40545 37465.34375 25309.489   47055.5321\n",
            " 62592.87309 39871.7043  43254.41795 36837.467   46130.5265  39241.442\n",
            " 46151.1245  52590.82939 21195.818   34472.841   23967.38305 35147.52848\n",
            " 39556.4945  39774.2763  20984.0936  51194.55914 34672.1472  41999.52\n",
            " 37607.5277  35069.37452 34806.4677  36189.1017  40182.246   48970.2476\n",
            " 45710.20785 19933.458   43753.33705 21472.4788  36124.5737  17352.6803\n",
            " 38126.2465  22462.04375 17560.37975 15518.18025 23807.2406  41676.0811\n",
            " 36085.219   47269.854   16232.847   17361.7661  27218.43725 38711.\n",
            " 42112.2356  18310.742   48673.5588  34617.84065 38998.546   48173.361\n",
            " 24869.8368  19515.5416  42124.5153  39727.614   39047.285   37484.4493\n",
            " 17179.522   33750.2918  44585.45587 20773.62775 21978.6769  18246.4955\n",
            " 24393.6224  33732.6867  39611.7577  18972.495   44501.3982  15820.699\n",
            " 44260.7499  48549.17835 33475.81715 25382.297   23306.547   42211.1382\n",
            " 38344.566   18767.7377  41949.2441  16450.8947  23568.272   40720.55105\n",
            " 20745.9891  46718.16325 37742.5757  42760.5022  42560.4304  19719.6947\n",
            " 32548.3405  34303.1672  60021.39897]\n"
          ]
        }
      ]
    },
    {
      "cell_type": "code",
      "source": [
        "print(y_test)"
      ],
      "metadata": {
        "id": "XX4qcmxUw0_q",
        "colab": {
          "base_uri": "https://localhost:8080/"
        },
        "collapsed": true,
        "outputId": "9280d03e-7f4b-469b-8839-8dba23e64057"
      },
      "execution_count": null,
      "outputs": [
        {
          "output_type": "stream",
          "name": "stdout",
          "text": [
            "[32787.45859 26109.32905 38282.7495  41034.2214  19350.3689  47403.88\n",
            " 37165.1638  37829.7242  39597.4072  18648.4217  39125.33225 34254.05335\n",
            " 38709.176   16297.846   35491.64    30184.9367  24915.22085 17043.3414\n",
            " 46889.2612  17178.6824  40103.89    13747.87235 17904.52705 12829.4551\n",
            " 22218.1149  34779.615   19361.9988  19199.944   28101.33305 22412.6485\n",
            " 26926.5144  21098.55405 45702.02235 35585.576   47496.49445 16138.76205\n",
            " 17942.106   15817.9857  20149.3229  43921.1837  46599.1084  41097.16175\n",
            " 39722.7462  48675.5177  41919.097   21259.37795 18259.216   38746.3551 ]\n"
          ]
        }
      ]
    },
    {
      "cell_type": "code",
      "source": [
        "#14 PRÉ PROCESSSANDO OS DADOS II\n",
        "# Carregar os dados no modelo de ML\n",
        "# Transformar os dados de treino e teste em arrays coluna\n",
        "x_train=x_train.reshape(-1,1)\n",
        "y_train=y_train.reshape(-1,1)\n",
        "x_test=x_test.reshape(-1,1)\n",
        "y_test=y_test.reshape(-1,1)"
      ],
      "metadata": {
        "id": "_duIdVfQxC3k"
      },
      "execution_count": null,
      "outputs": []
    },
    {
      "cell_type": "code",
      "source": [
        "print(x_train)"
      ],
      "metadata": {
        "id": "5ghT35zgxOMU",
        "colab": {
          "base_uri": "https://localhost:8080/"
        },
        "collapsed": true,
        "outputId": "9060c064-bdac-4918-d8e1-8ab3ad3dace1"
      },
      "execution_count": null,
      "outputs": [
        {
          "output_type": "stream",
          "name": "stdout",
          "text": [
            "[[34.9  ]\n",
            " [33.4  ]\n",
            " [34.4  ]\n",
            " [28.31 ]\n",
            " [38.17 ]\n",
            " [36.96 ]\n",
            " [31.79 ]\n",
            " [42.9  ]\n",
            " [27.835]\n",
            " [35.75 ]\n",
            " [38.94 ]\n",
            " [34.2  ]\n",
            " [26.07 ]\n",
            " [35.53 ]\n",
            " [30.685]\n",
            " [28.3  ]\n",
            " [27.1  ]\n",
            " [23.98 ]\n",
            " [30.   ]\n",
            " [24.42 ]\n",
            " [36.955]\n",
            " [35.625]\n",
            " [29.8  ]\n",
            " [35.09 ]\n",
            " [30.36 ]\n",
            " [37.07 ]\n",
            " [34.105]\n",
            " [35.3  ]\n",
            " [31.35 ]\n",
            " [37.8  ]\n",
            " [42.35 ]\n",
            " [32.8  ]\n",
            " [20.9  ]\n",
            " [32.7  ]\n",
            " [24.795]\n",
            " [28.5  ]\n",
            " [31.35 ]\n",
            " [36.67 ]\n",
            " [27.74 ]\n",
            " [36.4  ]\n",
            " [31.68 ]\n",
            " [30.8  ]\n",
            " [33.63 ]\n",
            " [22.895]\n",
            " [31.13 ]\n",
            " [31.73 ]\n",
            " [34.1  ]\n",
            " [41.14 ]\n",
            " [32.015]\n",
            " [29.7  ]\n",
            " [41.895]\n",
            " [28.12 ]\n",
            " [33.33 ]\n",
            " [29.07 ]\n",
            " [40.15 ]\n",
            " [29.925]\n",
            " [28.025]\n",
            " [25.175]\n",
            " [25.84 ]\n",
            " [36.19 ]\n",
            " [32.9  ]\n",
            " [41.8  ]\n",
            " [27.3  ]\n",
            " [22.99 ]\n",
            " [28.975]\n",
            " [36.3  ]\n",
            " [45.54 ]\n",
            " [28.5  ]\n",
            " [40.92 ]\n",
            " [33.535]\n",
            " [30.2  ]\n",
            " [39.9  ]\n",
            " [24.32 ]\n",
            " [24.64 ]\n",
            " [35.97 ]\n",
            " [30.9  ]\n",
            " [34.2  ]\n",
            " [37.07 ]\n",
            " [19.8  ]\n",
            " [31.92 ]\n",
            " [35.5  ]\n",
            " [28.025]\n",
            " [25.41 ]\n",
            " [29.15 ]\n",
            " [27.36 ]\n",
            " [31.73 ]\n",
            " [42.13 ]\n",
            " [25.3  ]\n",
            " [52.58 ]\n",
            " [19.3  ]\n",
            " [34.21 ]\n",
            " [40.565]\n",
            " [30.685]\n",
            " [25.1  ]\n",
            " [25.6  ]\n",
            " [36.08 ]\n",
            " [39.4  ]\n",
            " [20.13 ]\n",
            " [38.39 ]\n",
            " [26.03 ]\n",
            " [28.   ]\n",
            " [30.495]\n",
            " [28.69 ]\n",
            " [30.875]\n",
            " [34.43 ]\n",
            " [36.48 ]\n",
            " [38.06 ]\n",
            " [28.93 ]\n",
            " [30.25 ]\n",
            " [31.68 ]\n",
            " [34.485]]\n"
          ]
        }
      ]
    },
    {
      "cell_type": "code",
      "source": [
        "print(y_train)"
      ],
      "metadata": {
        "id": "61wqe3lnxsJ0",
        "colab": {
          "base_uri": "https://localhost:8080/"
        },
        "collapsed": true,
        "outputId": "6a6fb95d-7aa6-451a-9699-6f9e6bfccb75"
      },
      "execution_count": null,
      "outputs": [
        {
          "output_type": "stream",
          "name": "stdout",
          "text": [
            "[[34828.654  ]\n",
            " [38415.474  ]\n",
            " [36197.699  ]\n",
            " [28868.6639 ]\n",
            " [36307.7983 ]\n",
            " [49577.6624 ]\n",
            " [43813.8661 ]\n",
            " [47462.894  ]\n",
            " [20009.63365]\n",
            " [40273.6455 ]\n",
            " [44202.6536 ]\n",
            " [42856.838  ]\n",
            " [38245.59327]\n",
            " [36950.2567 ]\n",
            " [42303.69215]\n",
            " [21082.16   ]\n",
            " [19040.876  ]\n",
            " [17663.1442 ]\n",
            " [22144.032  ]\n",
            " [21223.6758 ]\n",
            " [36219.40545]\n",
            " [37465.34375]\n",
            " [25309.489  ]\n",
            " [47055.5321 ]\n",
            " [62592.87309]\n",
            " [39871.7043 ]\n",
            " [43254.41795]\n",
            " [36837.467  ]\n",
            " [46130.5265 ]\n",
            " [39241.442  ]\n",
            " [46151.1245 ]\n",
            " [52590.82939]\n",
            " [21195.818  ]\n",
            " [34472.841  ]\n",
            " [23967.38305]\n",
            " [35147.52848]\n",
            " [39556.4945 ]\n",
            " [39774.2763 ]\n",
            " [20984.0936 ]\n",
            " [51194.55914]\n",
            " [34672.1472 ]\n",
            " [41999.52   ]\n",
            " [37607.5277 ]\n",
            " [35069.37452]\n",
            " [34806.4677 ]\n",
            " [36189.1017 ]\n",
            " [40182.246  ]\n",
            " [48970.2476 ]\n",
            " [45710.20785]\n",
            " [19933.458  ]\n",
            " [43753.33705]\n",
            " [21472.4788 ]\n",
            " [36124.5737 ]\n",
            " [17352.6803 ]\n",
            " [38126.2465 ]\n",
            " [22462.04375]\n",
            " [17560.37975]\n",
            " [15518.18025]\n",
            " [23807.2406 ]\n",
            " [41676.0811 ]\n",
            " [36085.219  ]\n",
            " [47269.854  ]\n",
            " [16232.847  ]\n",
            " [17361.7661 ]\n",
            " [27218.43725]\n",
            " [38711.     ]\n",
            " [42112.2356 ]\n",
            " [18310.742  ]\n",
            " [48673.5588 ]\n",
            " [34617.84065]\n",
            " [38998.546  ]\n",
            " [48173.361  ]\n",
            " [24869.8368 ]\n",
            " [19515.5416 ]\n",
            " [42124.5153 ]\n",
            " [39727.614  ]\n",
            " [39047.285  ]\n",
            " [37484.4493 ]\n",
            " [17179.522  ]\n",
            " [33750.2918 ]\n",
            " [44585.45587]\n",
            " [20773.62775]\n",
            " [21978.6769 ]\n",
            " [18246.4955 ]\n",
            " [24393.6224 ]\n",
            " [33732.6867 ]\n",
            " [39611.7577 ]\n",
            " [18972.495  ]\n",
            " [44501.3982 ]\n",
            " [15820.699  ]\n",
            " [44260.7499 ]\n",
            " [48549.17835]\n",
            " [33475.81715]\n",
            " [25382.297  ]\n",
            " [23306.547  ]\n",
            " [42211.1382 ]\n",
            " [38344.566  ]\n",
            " [18767.7377 ]\n",
            " [41949.2441 ]\n",
            " [16450.8947 ]\n",
            " [23568.272  ]\n",
            " [40720.55105]\n",
            " [20745.9891 ]\n",
            " [46718.16325]\n",
            " [37742.5757 ]\n",
            " [42760.5022 ]\n",
            " [42560.4304 ]\n",
            " [19719.6947 ]\n",
            " [32548.3405 ]\n",
            " [34303.1672 ]\n",
            " [60021.39897]]\n"
          ]
        }
      ]
    },
    {
      "cell_type": "code",
      "source": [
        "print(x_test)"
      ],
      "metadata": {
        "colab": {
          "base_uri": "https://localhost:8080/"
        },
        "collapsed": true,
        "id": "m1pz4dJn1S0f",
        "outputId": "9c2619e9-9e9e-4c53-a66d-257f6a093c9b"
      },
      "execution_count": null,
      "outputs": [
        {
          "output_type": "stream",
          "name": "stdout",
          "text": [
            "[[28.31 ]\n",
            " [26.695]\n",
            " [35.75 ]\n",
            " [34.96 ]\n",
            " [29.81 ]\n",
            " [36.3  ]\n",
            " [37.62 ]\n",
            " [27.8  ]\n",
            " [30.78 ]\n",
            " [29.83 ]\n",
            " [32.775]\n",
            " [31.065]\n",
            " [35.2  ]\n",
            " [27.7  ]\n",
            " [30.8  ]\n",
            " [29.83 ]\n",
            " [28.215]\n",
            " [27.06 ]\n",
            " [33.88 ]\n",
            " [27.36 ]\n",
            " [35.3  ]\n",
            " [21.565]\n",
            " [24.795]\n",
            " [17.29 ]\n",
            " [23.21 ]\n",
            " [34.8  ]\n",
            " [24.42 ]\n",
            " [25.9  ]\n",
            " [26.695]\n",
            " [19.95 ]\n",
            " [23.76 ]\n",
            " [22.895]\n",
            " [40.565]\n",
            " [35.6  ]\n",
            " [36.955]\n",
            " [22.895]\n",
            " [25.7  ]\n",
            " [24.13 ]\n",
            " [26.41 ]\n",
            " [33.63 ]\n",
            " [35.86 ]\n",
            " [31.825]\n",
            " [44.88 ]\n",
            " [42.13 ]\n",
            " [32.3  ]\n",
            " [24.605]\n",
            " [24.4  ]\n",
            " [34.39 ]]\n"
          ]
        }
      ]
    },
    {
      "cell_type": "code",
      "source": [
        "print(y_test)"
      ],
      "metadata": {
        "colab": {
          "base_uri": "https://localhost:8080/"
        },
        "collapsed": true,
        "id": "cukmBa6I1rqA",
        "outputId": "53bbee3e-cf88-40ec-f5e7-0dd0733040d1"
      },
      "execution_count": null,
      "outputs": [
        {
          "output_type": "stream",
          "name": "stdout",
          "text": [
            "[[32787.45859]\n",
            " [26109.32905]\n",
            " [38282.7495 ]\n",
            " [41034.2214 ]\n",
            " [19350.3689 ]\n",
            " [47403.88   ]\n",
            " [37165.1638 ]\n",
            " [37829.7242 ]\n",
            " [39597.4072 ]\n",
            " [18648.4217 ]\n",
            " [39125.33225]\n",
            " [34254.05335]\n",
            " [38709.176  ]\n",
            " [16297.846  ]\n",
            " [35491.64   ]\n",
            " [30184.9367 ]\n",
            " [24915.22085]\n",
            " [17043.3414 ]\n",
            " [46889.2612 ]\n",
            " [17178.6824 ]\n",
            " [40103.89   ]\n",
            " [13747.87235]\n",
            " [17904.52705]\n",
            " [12829.4551 ]\n",
            " [22218.1149 ]\n",
            " [34779.615  ]\n",
            " [19361.9988 ]\n",
            " [19199.944  ]\n",
            " [28101.33305]\n",
            " [22412.6485 ]\n",
            " [26926.5144 ]\n",
            " [21098.55405]\n",
            " [45702.02235]\n",
            " [35585.576  ]\n",
            " [47496.49445]\n",
            " [16138.76205]\n",
            " [17942.106  ]\n",
            " [15817.9857 ]\n",
            " [20149.3229 ]\n",
            " [43921.1837 ]\n",
            " [46599.1084 ]\n",
            " [41097.16175]\n",
            " [39722.7462 ]\n",
            " [48675.5177 ]\n",
            " [41919.097  ]\n",
            " [21259.37795]\n",
            " [18259.216  ]\n",
            " [38746.3551 ]]\n"
          ]
        }
      ]
    },
    {
      "cell_type": "code",
      "source": [
        "# 15 MLS\n",
        "# Aplicação do Método de MLS (Regressão Linear)\n",
        "# 15.1 Ajuste do MODELO\n",
        "reg = LinearRegression()\n",
        "reg.fit(x_train,y_train)\n",
        "# 15.2 Predição com o MODELO (TESTE COM x_teste -> pred)\n",
        "pred = reg.predict(x_test)\n",
        "print(pred)\n"
      ],
      "metadata": {
        "id": "Uwq0stJSx-w3",
        "colab": {
          "base_uri": "https://localhost:8080/"
        },
        "collapsed": true,
        "outputId": "35bf0a11-0d5b-4dec-e939-7a3fda3db074"
      },
      "execution_count": null,
      "outputs": [
        {
          "output_type": "stream",
          "name": "stdout",
          "text": [
            "[[28918.41110004]\n",
            " [26701.55577986]\n",
            " [39131.04489701]\n",
            " [38046.638889  ]\n",
            " [30977.40984943]\n",
            " [39886.01110512]\n",
            " [41697.93000458]\n",
            " [28218.35152525]\n",
            " [32308.89570737]\n",
            " [31004.86316609]\n",
            " [35047.36404405]\n",
            " [32700.10546975]\n",
            " [38376.0786889 ]\n",
            " [28081.08494195]\n",
            " [32336.34902403]\n",
            " [31004.86316609]\n",
            " [28788.00784591]\n",
            " [27202.57880888]\n",
            " [36564.15978944]\n",
            " [27614.37855876]\n",
            " [38513.34527219]\n",
            " [19659.78005695]\n",
            " [24093.4906973 ]\n",
            " [13791.63362119]\n",
            " [21917.81535212]\n",
            " [37827.01235573]\n",
            " [23578.74100996]\n",
            " [25610.28644269]\n",
            " [26701.55577986]\n",
            " [17442.92473678]\n",
            " [22672.78156023]\n",
            " [21485.42561474]\n",
            " [45740.43088255]\n",
            " [38925.14502207]\n",
            " [40785.10722569]\n",
            " [21485.42561474]\n",
            " [25335.7532761 ]\n",
            " [23180.66791841]\n",
            " [26310.34601748]\n",
            " [36220.99333121]\n",
            " [39282.03813863]\n",
            " [33743.33150277]\n",
            " [51663.48395162]\n",
            " [47888.65291108]\n",
            " [34395.34777341]\n",
            " [23832.68418905]\n",
            " [23551.2876933 ]\n",
            " [37264.21936423]]\n"
          ]
        }
      ]
    },
    {
      "cell_type": "code",
      "source": [
        "#16 ANÁLISE GRÁFICA - Dados Experimentais x Modelo\n",
        "plt.scatter(X, Y, color=\"blue\")\n",
        "plt.plot(x_test, pred, color=\"red\")\n",
        "plt.title(\"Índice de Massa Corporal vs Gastos com Seguro (Dados de Teste)\")\n",
        "plt.xlabel(\"Índice de Massa Corporal do Cliente\")\n",
        "plt.ylabel(\"Gastos com Seguro (Dólares)\")"
      ],
      "metadata": {
        "colab": {
          "base_uri": "https://localhost:8080/",
          "height": 493
        },
        "id": "0xIQiOG8zG3X",
        "outputId": "7413f8e1-e7f5-485a-aa0e-b164cff003b1"
      },
      "execution_count": null,
      "outputs": [
        {
          "output_type": "execute_result",
          "data": {
            "text/plain": [
              "Text(0, 0.5, 'Gastos com Seguro (Dólares)')"
            ]
          },
          "metadata": {},
          "execution_count": 29
        },
        {
          "output_type": "display_data",
          "data": {
            "text/plain": [
              "<Figure size 640x480 with 1 Axes>"
            ],
            "image/png": "[encoded data removed]"
          },
          "metadata": {}
        }
      ]
    },
    {
      "cell_type": "code",
      "source": [
        "#17 CÁLCULO DO R2 (AJUSTE LINEAR)\n",
        "r_squared = r2_score(y_test, pred)\n",
        "print(f'Coeficiente r2: {r_squared}')"
      ],
      "metadata": {
        "colab": {
          "base_uri": "https://localhost:8080/"
        },
        "id": "mxNncT9X1Dna",
        "outputId": "887b1d2d-6ddd-4186-e9fa-1bb7d115488c"
      },
      "execution_count": null,
      "outputs": [
        {
          "output_type": "stream",
          "name": "stdout",
          "text": [
            "Coeficiente r2: 0.6871893267247464\n"
          ]
        }
      ]
    },
    {
      "cell_type": "code",
      "source": [
        "#18 DETERMINAÇÃO DO AJUSTE (ERRO MÉDIO)\n",
        "print('MAE (Erro):', metrics.mean_absolute_error(y_test, pred))"
      ],
      "metadata": {
        "colab": {
          "base_uri": "https://localhost:8080/"
        },
        "id": "N2cWqNh-2-jr",
        "outputId": "d93004fc-f764-4d99-b118-d5f990f285ef"
      },
      "execution_count": null,
      "outputs": [
        {
          "output_type": "stream",
          "name": "stdout",
          "text": [
            "MAE (Erro): 5118.9430089859425\n"
          ]
        }
      ]
    }
  ]
}